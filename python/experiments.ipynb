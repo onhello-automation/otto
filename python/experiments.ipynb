{
 "cells": [
  {
   "cell_type": "code",
   "execution_count": null,
   "metadata": {},
   "outputs": [],
   "source": [
    "from pywinauto import Application\n",
    "import pywinauto"
   ]
  },
  {
   "cell_type": "code",
   "execution_count": null,
   "metadata": {},
   "outputs": [],
   "source": [
    "\n",
    "app = Application(backend='uia').connect(title_re='.* \\| Microsoft Teams$')"
   ]
  },
  {
   "cell_type": "code",
   "execution_count": null,
   "metadata": {},
   "outputs": [],
   "source": [
    "window_spec = app.window()\n",
    "assert window_spec.wrapper_object(), \"Not found.\"\n",
    "# pywinauto.findwindows.find_elements()\n",
    "# window_spec.print_control_identifiers()"
   ]
  },
  {
   "cell_type": "code",
   "execution_count": null,
   "metadata": {},
   "outputs": [],
   "source": [
    "# Before typing:\n",
    "# input_element = window_spec.child_window(title=\"Type a message\\n\", control_type=\"Edit\")\n",
    "\n",
    "input_element = window_spec.child_window(control_type=\"Edit\")\n",
    "assert input_element.wrapper_object(), \"Not found.\"\n",
    "# Without focus, sometimes the first characters get dropped.\n",
    "input_element.set_focus()\n",
    "message = \"TEST HELLO WORLD\"\n",
    "# Can append \"{ENTER}\" to send the message.\n",
    "# message += '{ENTER}'\n",
    "input_element.type_keys(message, with_spaces=True, with_newlines=True)"
   ]
  }
 ],
 "metadata": {
  "kernelspec": {
   "display_name": "otto",
   "language": "python",
   "name": "python3"
  },
  "language_info": {
   "codemirror_mode": {
    "name": "ipython",
    "version": 3
   },
   "file_extension": ".py",
   "mimetype": "text/x-python",
   "name": "python",
   "nbconvert_exporter": "python",
   "pygments_lexer": "ipython3",
   "version": "3.11.8"
  }
 },
 "nbformat": 4,
 "nbformat_minor": 2
}
